{
 "cells": [
  {
   "cell_type": "code",
   "execution_count": 13,
   "metadata": {},
   "outputs": [],
   "source": [
    "import nltk.corpus\n",
    "from nltk.corpus import stopwords\n",
    "import string\n",
    "import re"
   ]
  },
  {
   "cell_type": "code",
   "execution_count": 2,
   "metadata": {},
   "outputs": [],
   "source": [
    "stop_words=stopwords.words(\"english\")"
   ]
  },
  {
   "cell_type": "code",
   "execution_count": 3,
   "metadata": {},
   "outputs": [],
   "source": [
    "custom_list=['Save','Save money','MOBILE','Walmart','MANAGER','Manager',\n",
    "'SUBTOTAL','Subtotal','TOTAL','Total','ITEMS','Items','Sold','SOLD','CASH','Cash','Change','CHANGE','DUE','Due','MANAGER']"
   ]
  },
  {
   "cell_type": "code",
   "execution_count": 4,
   "metadata": {},
   "outputs": [],
   "source": [
    "#stop_words=set(stopwords.words('english'))\n",
    "\n",
    "special_character=set(string.punctuation)"
   ]
  },
  {
   "cell_type": "code",
   "execution_count": 5,
   "metadata": {},
   "outputs": [],
   "source": [
    "stop_words+=custom_list"
   ]
  },
  {
   "cell_type": "code",
   "execution_count": 6,
   "metadata": {},
   "outputs": [],
   "source": [
    "ingredients_list=['Save money. Live better.',\n",
    " 'lb /', 'MOBILE HWY STE',\n",
    " '\"Walmart', 'MANAGER WALTER LOTT',\n",
    " 'GV STEW TOM',\n",
    "  'BAREFOOT',\n",
    "  'SUBTOTAL',\n",
    "  'YLW ONION',\n",
    "   'PENSACOLA FL',\n",
    "    'GV OATMEAL',\n",
    "     'lb @',\n",
    "     'TOTAL',\n",
    "      'GARLIC',\n",
    "       'GV BRN SUGAR',\n",
    "        '** VOIDED ENTRY **',\n",
    "        'ITEMS SOLD',\n",
    "        'LIMES',\n",
    "        'SOY SAUCE',\n",
    "        'LB GRD BFCK ',\n",
    "       'GV SALTIN MG',\n",
    "        'GV COLM',\n",
    "        'ITAL PARSLEY',\n",
    "         'CILANTRO',\n",
    "         'CASH TEND',\n",
    "          'GV PNT BUTTR',\n",
    "           'TOMATOES',\n",
    "           'GV PEANUTS',\n",
    "           'CHANGE DUE',\n",
    "           'GV TOM PASTE',\n",
    "           'GV TOM SAUCE',\n",
    "            'yours']"
   ]
  },
  {
   "cell_type": "code",
   "execution_count": 7,
   "metadata": {},
   "outputs": [],
   "source": [
    "def cleaner(list_ingredient,special_character,stopwords):\n",
    "    copy_list=list_ingredient.copy()  \n",
    "    for word in list_ingredient:\n",
    "        for character in word:\n",
    "            if character in special_character :\n",
    "                copy_list.remove(word)\n",
    "                break\n",
    "                \n",
    "    clear_list=remove_stopwords(copy_list,stop_words)\n",
    "            \n",
    "    return clear_list\n"
   ]
  },
  {
   "cell_type": "code",
   "execution_count": 8,
   "metadata": {},
   "outputs": [],
   "source": [
    "def remove_stopwords(list_of_ingredients,stopwords):\n",
    "    list_clean=list_of_ingredients.copy()\n",
    "    for word in list_of_ingredients:\n",
    "        split_word=word.split()\n",
    "        for single_word in split_word:\n",
    "            if single_word in stopwords:\n",
    "                list_clean.remove(word)\n",
    "                break\n",
    "\n",
    "       \n",
    "    return list_clean"
   ]
  },
  {
   "cell_type": "code",
   "execution_count": 9,
   "metadata": {},
   "outputs": [],
   "source": [
    "clear_list=cleaner(ingredients_list,special_character,stop_words)"
   ]
  },
  {
   "cell_type": "code",
   "execution_count": null,
   "metadata": {},
   "outputs": [],
   "source": []
  },
  {
   "cell_type": "code",
   "execution_count": 10,
   "metadata": {},
   "outputs": [
    {
     "data": {
      "text/plain": [
       "['GV STEW TOM',\n",
       " 'BAREFOOT',\n",
       " 'YLW ONION',\n",
       " 'PENSACOLA FL',\n",
       " 'GV OATMEAL',\n",
       " 'GARLIC',\n",
       " 'GV BRN SUGAR',\n",
       " 'LIMES',\n",
       " 'SOY SAUCE',\n",
       " 'LB GRD BFCK ',\n",
       " 'GV SALTIN MG',\n",
       " 'GV COLM',\n",
       " 'ITAL PARSLEY',\n",
       " 'CILANTRO',\n",
       " 'GV PNT BUTTR',\n",
       " 'TOMATOES',\n",
       " 'GV PEANUTS',\n",
       " 'GV TOM PASTE',\n",
       " 'GV TOM SAUCE']"
      ]
     },
     "execution_count": 10,
     "metadata": {},
     "output_type": "execute_result"
    }
   ],
   "source": [
    "clear_list"
   ]
  },
  {
   "cell_type": "code",
   "execution_count": 146,
   "metadata": {},
   "outputs": [],
   "source": [
    "sample=\"Publix\\\\nQueensborough Shopping Center\\\\n1000 Johnnie Dodds Blvd.\\\\nMT PLEASANT, SC 29464\\\\nStore Manager: Doug Anglin\\\\n843-856-3000\\\\nGM CHEER OAT CRNCH\\\\nKELL COCOA KRISPIE\\\\nLAY\\\\\\'S\\\\n1\\\\nYou Saved\\\\nNEAR EAST COUSCOUS\\\\nPr\\\\n4.19 t F\\\\n4.49 t F\\\\n5.00\\\\n0.79\\\\n2.50 t F\\\\nFOR\\\\n2.39 t F\\\\n-1.20 t F\\\\n1on\\\\nLAY\\\\\\'S BAKED BBQ\\\\n@ 2 FOR\\\\nYou Saved\\\\nMSF GRIL CRUMBLES\\\\nPromotion\\\\nNEAR EAST COUSCOUS\\\\nPromotion\\\\nPUB STM MXD VEGTBL\\\\nQUORN CHKN PATTIES\\\\nSWT EARTH BWL TOFU\\\\nAMY\\\\\\'S L&L NOODLES\\\\nMINUTE RICE&QUIN\\\\nYou Saved\\\\nKRAFT BIG CUP\\\\nALL MIGHTY PACS\\\\nPromotion\\\\nPHIL CC CHIVE ONIO\\\\n2 FOR\\\\n5.00\\\\n0.79\\\\n2,50 t F\\\\n4\\\\n4.35 t F\\\\n2.18 t F\\\\n2.39 t F\\\\n-1.19 t F\\\\n1.79 t F\\\\n4.89 t F\\\\n5.29 t F\\\\n4.79 t F\\\\n2.10 t F\\\\n0.29\\\\n2.05 t F\\\\n5.99 T\\\\n-3.00 T\\\\n2.50 t F\\\\n1 @\\\\n5.00\\\\n1.09\\\\nYou Saved\\\\nPUB A/P FLOUR\\\\nMAHATMA LG GRN RIC\\\\nYou Saved\\\\nMAHATMA LG GRN RIC\\\\nYou Saved\\\\nMENTOS MXD FRT RLL\\\\nMENTOS RAINBOW RLL\\\\n1.29 t F\\\\n2.20 t F\\\\n0.29\\\\n2.20 t F\\\\n0.29\\\\n1.09 t F\\\\n1.09 t F\\\\nVoided Item\\\\n-2.20 t F\\\\nMAHATMA LG GRN\\\\nYou Saved\\\\nNESTLE CHOC MORSEL\\\\n1 @ 2 FOR\\\\nYou Saved\\\\nNESTLE WHITE MORSL\\\\n1 @ 2 FOR\\\\nYou Saved\\\\nA&H BAKING SODA\\\\nCLABBERGRL BK/PWD\\\\nHERSHEY COCOA\\\\nBRLLA LASAGNA\\\\n-0.29\\\\n2.50 t F\\\\n5.00\\\\n0.87\\\\n2.50 t F\\\\n5.00\\\\n.87\\\\n0.65 t F\\\\n1.79 t F\\\\n3.89 t F\\\\n2.19 t F\\\\n\\nbounding_poly {\\n vertices {\\n x: 63\\n y: 72\\n }\\n vertices {\\n x: 422\\n y: 72\\n }\\n vertices {\\n x: 422\\n y: 1151\\n }\\n vertices {\\n x: 63\\n y: 1151\\n }\\n}\\n\""
   ]
  },
  {
   "cell_type": "code",
   "execution_count": 147,
   "metadata": {},
   "outputs": [
    {
     "data": {
      "text/plain": [
       "\"Publix\\\\nQueensborough Shopping Center\\\\n1000 Johnnie Dodds Blvd.\\\\nMT PLEASANT, SC 29464\\\\nStore Manager: Doug Anglin\\\\n843-856-3000\\\\nGM CHEER OAT CRNCH\\\\nKELL COCOA KRISPIE\\\\nLAY\\\\'S\\\\n1\\\\nYou Saved\\\\nNEAR EAST COUSCOUS\\\\nPr\\\\n4.19 t F\\\\n4.49 t F\\\\n5.00\\\\n0.79\\\\n2.50 t F\\\\nFOR\\\\n2.39 t F\\\\n-1.20 t F\\\\n1on\\\\nLAY\\\\'S BAKED BBQ\\\\n@ 2 FOR\\\\nYou Saved\\\\nMSF GRIL CRUMBLES\\\\nPromotion\\\\nNEAR EAST COUSCOUS\\\\nPromotion\\\\nPUB STM MXD VEGTBL\\\\nQUORN CHKN PATTIES\\\\nSWT EARTH BWL TOFU\\\\nAMY\\\\'S L&L NOODLES\\\\nMINUTE RICE&QUIN\\\\nYou Saved\\\\nKRAFT BIG CUP\\\\nALL MIGHTY PACS\\\\nPromotion\\\\nPHIL CC CHIVE ONIO\\\\n2 FOR\\\\n5.00\\\\n0.79\\\\n2,50 t F\\\\n4\\\\n4.35 t F\\\\n2.18 t F\\\\n2.39 t F\\\\n-1.19 t F\\\\n1.79 t F\\\\n4.89 t F\\\\n5.29 t F\\\\n4.79 t F\\\\n2.10 t F\\\\n0.29\\\\n2.05 t F\\\\n5.99 T\\\\n-3.00 T\\\\n2.50 t F\\\\n1 @\\\\n5.00\\\\n1.09\\\\nYou Saved\\\\nPUB A/P FLOUR\\\\nMAHATMA LG GRN RIC\\\\nYou Saved\\\\nMAHATMA LG GRN RIC\\\\nYou Saved\\\\nMENTOS MXD FRT RLL\\\\nMENTOS RAINBOW RLL\\\\n1.29 t F\\\\n2.20 t F\\\\n0.29\\\\n2.20 t F\\\\n0.29\\\\n1.09 t F\\\\n1.09 t F\\\\nVoided Item\\\\n-2.20 t F\\\\nMAHATMA LG GRN\\\\nYou Saved\\\\nNESTLE CHOC MORSEL\\\\n1 @ 2 FOR\\\\nYou Saved\\\\nNESTLE WHITE MORSL\\\\n1 @ 2 FOR\\\\nYou Saved\\\\nA&H BAKING SODA\\\\nCLABBERGRL BK/PWD\\\\nHERSHEY COCOA\\\\nBRLLA LASAGNA\\\\n-0.29\\\\n2.50 t F\\\\n5.00\\\\n0.87\\\\n2.50 t F\\\\n5.00\\\\n.87\\\\n0.65 t F\\\\n1.79 t F\\\\n3.89 t F\\\\n2.19 t F\\\\n\\nbounding_poly {\\n vertices {\\n x: 63\\n y: 72\\n }\\n vertices {\\n x: 422\\n y: 72\\n }\\n vertices {\\n x: 422\\n y: 1151\\n }\\n vertices {\\n x: 63\\n y: 1151\\n }\\n}\\n\""
      ]
     },
     "execution_count": 147,
     "metadata": {},
     "output_type": "execute_result"
    }
   ],
   "source": [
    "sample"
   ]
  },
  {
   "cell_type": "code",
   "execution_count": 148,
   "metadata": {},
   "outputs": [
    {
     "name": "stdout",
     "output_type": "stream",
     "text": [
      "PublixQueensborough Shopping Center1000 Johnnie Dodds Blvd.MT PLEASANT, SC 29464Store Manager: Doug Anglin843-856-3000GM CHEER OAT CRNCHKELL COCOA KRISPIELAY\\'S1You SavedNEAR EAST COUSCOUSPr4.19 t F4.49 t F5.000.792.50 t FFOR2.39 t F-1.20 t F1onLAY\\'S BAKED BBQ@ 2 FORYou SavedMSF GRIL CRUMBLESPromotionNEAR EAST COUSCOUSPromotionPUB STM MXD VEGTBLQUORN CHKN PATTIESSWT EARTH BWL TOFUAMY\\'S L&L NOODLESMINUTE RICE&QUINYou SavedKRAFT BIG CUPALL MIGHTY PACSPromotionPHIL CC CHIVE ONIO2 FOR5.000.792,50 t F44.35 t F2.18 t F2.39 t F-1.19 t F1.79 t F4.89 t F5.29 t F4.79 t F2.10 t F0.292.05 t F5.99 T-3.00 T2.50 t F1 @5.001.09You SavedPUB A/P FLOURMAHATMA LG GRN RICYou SavedMAHATMA LG GRN RICYou SavedMENTOS MXD FRT RLLMENTOS RAINBOW RLL1.29 t F2.20 t F0.292.20 t F0.291.09 t F1.09 t FVoided Item-2.20 t FMAHATMA LG GRNYou SavedNESTLE CHOC MORSEL1 @ 2 FORYou SavedNESTLE WHITE MORSL1 @ 2 FORYou SavedA&H BAKING SODACLABBERGRL BK/PWDHERSHEY COCOABRLLA LASAGNA-0.292.50 t F5.000.872.50 t F5.00.870.65 t F1.79 t F3.89 t F2.19 t F\n",
      "bounding_poly {\n",
      " vertices {\n",
      " x: 63\n",
      " y: 72\n",
      " }\n",
      " vertices {\n",
      " x: 422\n",
      " y: 72\n",
      " }\n",
      " vertices {\n",
      " x: 422\n",
      " y: 1151\n",
      " }\n",
      " vertices {\n",
      " x: 63\n",
      " y: 1151\n",
      " }\n",
      "}\n",
      "\n"
     ]
    }
   ],
   "source": [
    "remove_re= re.sub(r\"\\\\n\", \"\", sample)\n",
    "print(remove_re)\n"
   ]
  },
  {
   "cell_type": "code",
   "execution_count": 149,
   "metadata": {},
   "outputs": [
    {
     "name": "stdout",
     "output_type": "stream",
     "text": [
      "PublixQueensborough Shopping Center Johnnie Dodds Blvd.MT PLEASANT, SC 4Store Manager: Doug AnglinGM CHEER OAT CRNCHKELL COCOA KRISPIELAY\\'S1You SavedNEAR EAST COUSCOUSPr4.19 t F4.49 t F5.000.792.50 t FFOR2.39 t F-1.20 t F1onLAY\\'S BAKED BBQ@ 2 FORYou SavedMSF GRIL CRUMBLESPromotionNEAR EAST COUSCOUSPromotionPUB STM MXD VEGTBLQUORN CHKN PATTIESSWT EARTH BWL TOFUAMY\\'S L&L NOODLESMINUTE RICE&QUINYou SavedKRAFT BIG CUPALL MIGHTY PACSPromotionPHIL CC CHIVE ONIO2 FOR5.000.792,50 t F44.35 t F2.18 t F2.39 t F-1.19 t F1.79 t F4.89 t F5.29 t F4.79 t F2.10 t F0.292.05 t F5.99 T-3.00 T2.50 t F1 @5.001.09You SavedPUB A/P FLOURMAHATMA LG GRN RICYou SavedMAHATMA LG GRN RICYou SavedMENTOS MXD FRT RLLMENTOS RAINBOW RLL1.29 t F2.20 t F0.292.20 t F0.291.09 t F1.09 t FVoided Item-2.20 t FMAHATMA LG GRNYou SavedNESTLE CHOC MORSEL1 @ 2 FORYou SavedNESTLE WHITE MORSL1 @ 2 FORYou SavedA&H BAKING SODACLABBERGRL BK/PWDHERSHEY COCOABRLLA LASAGNA-0.292.50 t F5.000.872.50 t F5.00.870.65 t F1.79 t F3.89 t F2.19 t F\n",
      "bounding_poly {\n",
      " vertices {\n",
      " x: 63\n",
      " y: 72\n",
      " }\n",
      " vertices {\n",
      " x: 422\n",
      " y: 72\n",
      " }\n",
      " vertices {\n",
      " x: 422\n",
      " y: \n",
      " }\n",
      " vertices {\n",
      " x: 63\n",
      " y: \n",
      " }\n",
      "}\n",
      "\n"
     ]
    }
   ],
   "source": [
    "remove_code=re.sub(r\"[0-9][0-9][0-9]-[0-9][0-9][0-9]-[0-9][0-9][0-9][0-9]\",\"\",remove_re)\n",
    "remove_code=re.sub(r\"[0-9][0-9][0-9][0-9]\",\"\",remove_code)\n",
    "print(remove_code)\n",
    "remove=re.sub(r\"Saved\",\"\",remove_code)"
   ]
  },
  {
   "cell_type": "code",
   "execution_count": 150,
   "metadata": {},
   "outputs": [],
   "source": [
    "remove_float=re.sub(r\"\\d+\\.\\d+\",\"\",remove)\n",
    "remove_tf=re.sub(r\"t F\",\"\",remove_float)"
   ]
  },
  {
   "cell_type": "code",
   "execution_count": null,
   "metadata": {},
   "outputs": [],
   "source": []
  },
  {
   "cell_type": "code",
   "execution_count": 151,
   "metadata": {},
   "outputs": [],
   "source": [
    "list_df=re.sub(r\"}\",\" \",remove_tf)"
   ]
  },
  {
   "cell_type": "code",
   "execution_count": 152,
   "metadata": {},
   "outputs": [
    {
     "data": {
      "text/plain": [
       "\"PublixQueensborough Shopping Center Johnnie Dodds Blvd.MT PLEASANT, SC Store Manager: Doug AnglinGM CHEER OAT CRNCHKELL COCOA KRISPIELAY\\\\'SYou NEAR EAST COUSCOUSPr  . FOR - onLAY\\\\'S BAKED BBQ  FORYou MSF GRIL CRUMBLESPromotionNEAR EAST COUSCOUSPromotionPUB STM MXD VEGTBLQUORN CHKN PATTIESSWT EARTH BWL TOFUAMY\\\\'S L&L NOODLESMINUTE RICE&QUINYou KRAFT BIG CUPALL MIGHTY PACSPromotionPHIL CC CHIVE ONIO FOR.,    -      .  T- T  .You PUB A/P FLOURMAHATMA LG GRN RICYou MAHATMA LG GRN RICYou MENTOS MXD FRT RLLMENTOS RAINBOW RLL  . .  Voided Item- MAHATMA LG GRNYou NESTLE CHOC MORSEL   FORYou NESTLE WHITE MORSL   FORYou A&H BAKING SODACLABBERGRL BK/PWDHERSHEY COCOABRLLA LASAGNA-. . .    \\nbounding_poly \\n vertices \\n  \\n  \\n  \\n vertices \\n  \\n  \\n  \\n vertices \\n  \\n  \\n  \\n vertices \\n  \\n  \\n  \\n \\n\""
      ]
     },
     "execution_count": 152,
     "metadata": {},
     "output_type": "execute_result"
    }
   ],
   "source": [
    "list_df=re.sub(r\"{\",\"\",list_df)\n",
    "list_df=re.sub(r\"\\d\",\"\",list_df)\n",
    "list_df=re.sub(r\"x:\",\"\",list_df)\n",
    "list_df=re.sub(r\"y:\",\"\",list_df)\n",
    "list_df=re.sub(r\"@\",\"\",list_df)\n",
    "list_df"
   ]
  },
  {
   "cell_type": "code",
   "execution_count": null,
   "metadata": {},
   "outputs": [],
   "source": []
  },
  {
   "cell_type": "code",
   "execution_count": null,
   "metadata": {},
   "outputs": [],
   "source": []
  },
  {
   "cell_type": "code",
   "execution_count": 170,
   "metadata": {},
   "outputs": [],
   "source": []
  },
  {
   "cell_type": "code",
   "execution_count": 171,
   "metadata": {},
   "outputs": [],
   "source": []
  },
  {
   "cell_type": "code",
   "execution_count": 172,
   "metadata": {},
   "outputs": [
    {
     "data": {
      "text/plain": [
       "1366"
      ]
     },
     "execution_count": 172,
     "metadata": {},
     "output_type": "execute_result"
    }
   ],
   "source": []
  },
  {
   "cell_type": "code",
   "execution_count": 175,
   "metadata": {},
   "outputs": [
    {
     "ename": "SyntaxError",
     "evalue": "invalid syntax (<ipython-input-175-a19d52121878>, line 3)",
     "output_type": "error",
     "traceback": [
      "\u001b[0;36m  File \u001b[0;32m\"<ipython-input-175-a19d52121878>\"\u001b[0;36m, line \u001b[0;32m3\u001b[0m\n\u001b[0;31m    BigInteger number = BigInteger.Pow(2, 1000)\u001b[0m\n\u001b[0m                    ^\u001b[0m\n\u001b[0;31mSyntaxError\u001b[0m\u001b[0;31m:\u001b[0m invalid syntax\n"
     ]
    }
   ],
   "source": [
    "\n"
   ]
  },
  {
   "cell_type": "code",
   "execution_count": null,
   "metadata": {},
   "outputs": [],
   "source": []
  }
 ],
 "metadata": {
  "kernelspec": {
   "display_name": "Python 3",
   "language": "python",
   "name": "python3"
  },
  "language_info": {
   "codemirror_mode": {
    "name": "ipython",
    "version": 3
   },
   "file_extension": ".py",
   "mimetype": "text/x-python",
   "name": "python",
   "nbconvert_exporter": "python",
   "pygments_lexer": "ipython3",
   "version": "3.6.8"
  }
 },
 "nbformat": 4,
 "nbformat_minor": 2
}
